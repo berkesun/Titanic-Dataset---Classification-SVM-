{
 "cells": [
  {
   "cell_type": "code",
   "execution_count": 1,
   "id": "12e46ae1",
   "metadata": {
    "_cell_guid": "b1076dfc-b9ad-4769-8c92-a6c4dae69d19",
    "_uuid": "8f2839f25d086af736a60e9eeb907d3b93b6e0e5",
    "execution": {
     "iopub.execute_input": "2022-02-10T15:08:06.171153Z",
     "iopub.status.busy": "2022-02-10T15:08:06.170457Z",
     "iopub.status.idle": "2022-02-10T15:08:07.361472Z",
     "shell.execute_reply": "2022-02-10T15:08:07.362230Z",
     "shell.execute_reply.started": "2022-02-10T11:52:32.018401Z"
    },
    "papermill": {
     "duration": 1.247934,
     "end_time": "2022-02-10T15:08:07.362542",
     "exception": false,
     "start_time": "2022-02-10T15:08:06.114608",
     "status": "completed"
    },
    "tags": []
   },
   "outputs": [
    {
     "name": "stdout",
     "output_type": "stream",
     "text": [
      "/kaggle/input/titanic/train.csv\n",
      "/kaggle/input/titanic/test.csv\n",
      "/kaggle/input/titanic/gender_submission.csv\n"
     ]
    }
   ],
   "source": [
    "# This Python 3 environment comes with many helpful analytics libraries installed\n",
    "# It is defined by the kaggle/python Docker image: https://github.com/kaggle/docker-python\n",
    "# For example, here's several helpful packages to load\n",
    "\n",
    "import numpy as np # linear algebra\n",
    "import pandas as pd # data processing, CSV file I/O (e.g. pd.read_csv)\n",
    "import matplotlib.pyplot as plt\n",
    "import seaborn as sns\n",
    "\n",
    "\n",
    "# Input data files are available in the read-only \"../input/\" directory\n",
    "# For example, running this (by clicking run or pressing Shift+Enter) will list all files under the input directory\n",
    "\n",
    "import os\n",
    "for dirname, _, filenames in os.walk('/kaggle/input'):\n",
    "    for filename in filenames:\n",
    "        print(os.path.join(dirname, filename))\n",
    "\n",
    "# You can write up to 20GB to the current directory (/kaggle/working/) that gets preserved as output when you create a version using \"Save & Run All\" \n",
    "# You can also write temporary files to /kaggle/temp/, but they won't be saved outside of the current session"
   ]
  },
  {
   "cell_type": "markdown",
   "id": "2838ec66",
   "metadata": {
    "papermill": {
     "duration": 0.044606,
     "end_time": "2022-02-10T15:08:07.454171",
     "exception": false,
     "start_time": "2022-02-10T15:08:07.409565",
     "status": "completed"
    },
    "tags": []
   },
   "source": [
    "# Load the Data"
   ]
  },
  {
   "cell_type": "code",
   "execution_count": 2,
   "id": "c7acfb1b",
   "metadata": {
    "execution": {
     "iopub.execute_input": "2022-02-10T15:08:07.548938Z",
     "iopub.status.busy": "2022-02-10T15:08:07.548231Z",
     "iopub.status.idle": "2022-02-10T15:08:07.578609Z",
     "shell.execute_reply": "2022-02-10T15:08:07.577930Z",
     "shell.execute_reply.started": "2022-02-10T11:52:33.045227Z"
    },
    "papermill": {
     "duration": 0.078492,
     "end_time": "2022-02-10T15:08:07.578757",
     "exception": false,
     "start_time": "2022-02-10T15:08:07.500265",
     "status": "completed"
    },
    "tags": []
   },
   "outputs": [],
   "source": [
    "train_data = pd.read_csv('../input/titanic/train.csv')\n",
    "test_data = pd.read_csv('../input/titanic/test.csv')"
   ]
  },
  {
   "cell_type": "markdown",
   "id": "62f2ced7",
   "metadata": {
    "papermill": {
     "duration": 0.044939,
     "end_time": "2022-02-10T15:08:07.667252",
     "exception": false,
     "start_time": "2022-02-10T15:08:07.622313",
     "status": "completed"
    },
    "tags": []
   },
   "source": [
    "# Take a Quick Look at the Data Structure\n"
   ]
  },
  {
   "cell_type": "code",
   "execution_count": 3,
   "id": "7458cc4e",
   "metadata": {
    "execution": {
     "iopub.execute_input": "2022-02-10T15:08:07.759179Z",
     "iopub.status.busy": "2022-02-10T15:08:07.758502Z",
     "iopub.status.idle": "2022-02-10T15:08:07.781681Z",
     "shell.execute_reply": "2022-02-10T15:08:07.782218Z",
     "shell.execute_reply.started": "2022-02-10T11:52:33.082146Z"
    },
    "papermill": {
     "duration": 0.071725,
     "end_time": "2022-02-10T15:08:07.782386",
     "exception": false,
     "start_time": "2022-02-10T15:08:07.710661",
     "status": "completed"
    },
    "tags": []
   },
   "outputs": [
    {
     "data": {
      "text/html": [
       "<div>\n",
       "<style scoped>\n",
       "    .dataframe tbody tr th:only-of-type {\n",
       "        vertical-align: middle;\n",
       "    }\n",
       "\n",
       "    .dataframe tbody tr th {\n",
       "        vertical-align: top;\n",
       "    }\n",
       "\n",
       "    .dataframe thead th {\n",
       "        text-align: right;\n",
       "    }\n",
       "</style>\n",
       "<table border=\"1\" class=\"dataframe\">\n",
       "  <thead>\n",
       "    <tr style=\"text-align: right;\">\n",
       "      <th></th>\n",
       "      <th>PassengerId</th>\n",
       "      <th>Survived</th>\n",
       "      <th>Pclass</th>\n",
       "      <th>Name</th>\n",
       "      <th>Sex</th>\n",
       "      <th>Age</th>\n",
       "      <th>SibSp</th>\n",
       "      <th>Parch</th>\n",
       "      <th>Ticket</th>\n",
       "      <th>Fare</th>\n",
       "      <th>Cabin</th>\n",
       "      <th>Embarked</th>\n",
       "    </tr>\n",
       "  </thead>\n",
       "  <tbody>\n",
       "    <tr>\n",
       "      <th>0</th>\n",
       "      <td>1</td>\n",
       "      <td>0</td>\n",
       "      <td>3</td>\n",
       "      <td>Braund, Mr. Owen Harris</td>\n",
       "      <td>male</td>\n",
       "      <td>22.0</td>\n",
       "      <td>1</td>\n",
       "      <td>0</td>\n",
       "      <td>A/5 21171</td>\n",
       "      <td>7.2500</td>\n",
       "      <td>NaN</td>\n",
       "      <td>S</td>\n",
       "    </tr>\n",
       "    <tr>\n",
       "      <th>1</th>\n",
       "      <td>2</td>\n",
       "      <td>1</td>\n",
       "      <td>1</td>\n",
       "      <td>Cumings, Mrs. John Bradley (Florence Briggs Th...</td>\n",
       "      <td>female</td>\n",
       "      <td>38.0</td>\n",
       "      <td>1</td>\n",
       "      <td>0</td>\n",
       "      <td>PC 17599</td>\n",
       "      <td>71.2833</td>\n",
       "      <td>C85</td>\n",
       "      <td>C</td>\n",
       "    </tr>\n",
       "    <tr>\n",
       "      <th>2</th>\n",
       "      <td>3</td>\n",
       "      <td>1</td>\n",
       "      <td>3</td>\n",
       "      <td>Heikkinen, Miss. Laina</td>\n",
       "      <td>female</td>\n",
       "      <td>26.0</td>\n",
       "      <td>0</td>\n",
       "      <td>0</td>\n",
       "      <td>STON/O2. 3101282</td>\n",
       "      <td>7.9250</td>\n",
       "      <td>NaN</td>\n",
       "      <td>S</td>\n",
       "    </tr>\n",
       "    <tr>\n",
       "      <th>3</th>\n",
       "      <td>4</td>\n",
       "      <td>1</td>\n",
       "      <td>1</td>\n",
       "      <td>Futrelle, Mrs. Jacques Heath (Lily May Peel)</td>\n",
       "      <td>female</td>\n",
       "      <td>35.0</td>\n",
       "      <td>1</td>\n",
       "      <td>0</td>\n",
       "      <td>113803</td>\n",
       "      <td>53.1000</td>\n",
       "      <td>C123</td>\n",
       "      <td>S</td>\n",
       "    </tr>\n",
       "    <tr>\n",
       "      <th>4</th>\n",
       "      <td>5</td>\n",
       "      <td>0</td>\n",
       "      <td>3</td>\n",
       "      <td>Allen, Mr. William Henry</td>\n",
       "      <td>male</td>\n",
       "      <td>35.0</td>\n",
       "      <td>0</td>\n",
       "      <td>0</td>\n",
       "      <td>373450</td>\n",
       "      <td>8.0500</td>\n",
       "      <td>NaN</td>\n",
       "      <td>S</td>\n",
       "    </tr>\n",
       "  </tbody>\n",
       "</table>\n",
       "</div>"
      ],
      "text/plain": [
       "   PassengerId  Survived  Pclass  \\\n",
       "0            1         0       3   \n",
       "1            2         1       1   \n",
       "2            3         1       3   \n",
       "3            4         1       1   \n",
       "4            5         0       3   \n",
       "\n",
       "                                                Name     Sex   Age  SibSp  \\\n",
       "0                            Braund, Mr. Owen Harris    male  22.0      1   \n",
       "1  Cumings, Mrs. John Bradley (Florence Briggs Th...  female  38.0      1   \n",
       "2                             Heikkinen, Miss. Laina  female  26.0      0   \n",
       "3       Futrelle, Mrs. Jacques Heath (Lily May Peel)  female  35.0      1   \n",
       "4                           Allen, Mr. William Henry    male  35.0      0   \n",
       "\n",
       "   Parch            Ticket     Fare Cabin Embarked  \n",
       "0      0         A/5 21171   7.2500   NaN        S  \n",
       "1      0          PC 17599  71.2833   C85        C  \n",
       "2      0  STON/O2. 3101282   7.9250   NaN        S  \n",
       "3      0            113803  53.1000  C123        S  \n",
       "4      0            373450   8.0500   NaN        S  "
      ]
     },
     "execution_count": 3,
     "metadata": {},
     "output_type": "execute_result"
    }
   ],
   "source": [
    "train_data.head()"
   ]
  },
  {
   "cell_type": "markdown",
   "id": "66994b26",
   "metadata": {
    "papermill": {
     "duration": 0.045906,
     "end_time": "2022-02-10T15:08:07.872055",
     "exception": false,
     "start_time": "2022-02-10T15:08:07.826149",
     "status": "completed"
    },
    "tags": []
   },
   "source": [
    "# Information About Data\n"
   ]
  },
  {
   "cell_type": "code",
   "execution_count": 4,
   "id": "73d13ca4",
   "metadata": {
    "execution": {
     "iopub.execute_input": "2022-02-10T15:08:07.966342Z",
     "iopub.status.busy": "2022-02-10T15:08:07.965601Z",
     "iopub.status.idle": "2022-02-10T15:08:07.991423Z",
     "shell.execute_reply": "2022-02-10T15:08:07.992151Z",
     "shell.execute_reply.started": "2022-02-10T11:52:33.110426Z"
    },
    "papermill": {
     "duration": 0.074789,
     "end_time": "2022-02-10T15:08:07.992389",
     "exception": false,
     "start_time": "2022-02-10T15:08:07.917600",
     "status": "completed"
    },
    "tags": []
   },
   "outputs": [
    {
     "name": "stdout",
     "output_type": "stream",
     "text": [
      "<class 'pandas.core.frame.DataFrame'>\n",
      "RangeIndex: 891 entries, 0 to 890\n",
      "Data columns (total 12 columns):\n",
      " #   Column       Non-Null Count  Dtype  \n",
      "---  ------       --------------  -----  \n",
      " 0   PassengerId  891 non-null    int64  \n",
      " 1   Survived     891 non-null    int64  \n",
      " 2   Pclass       891 non-null    int64  \n",
      " 3   Name         891 non-null    object \n",
      " 4   Sex          891 non-null    object \n",
      " 5   Age          714 non-null    float64\n",
      " 6   SibSp        891 non-null    int64  \n",
      " 7   Parch        891 non-null    int64  \n",
      " 8   Ticket       891 non-null    object \n",
      " 9   Fare         891 non-null    float64\n",
      " 10  Cabin        204 non-null    object \n",
      " 11  Embarked     889 non-null    object \n",
      "dtypes: float64(2), int64(5), object(5)\n",
      "memory usage: 83.7+ KB\n"
     ]
    }
   ],
   "source": [
    "train_data.info()"
   ]
  },
  {
   "cell_type": "markdown",
   "id": "2b4d9870",
   "metadata": {
    "papermill": {
     "duration": 0.043152,
     "end_time": "2022-02-10T15:08:08.080846",
     "exception": false,
     "start_time": "2022-02-10T15:08:08.037694",
     "status": "completed"
    },
    "tags": []
   },
   "source": [
    "# Values Of Our Categorical Variable"
   ]
  },
  {
   "cell_type": "code",
   "execution_count": 5,
   "id": "abce533b",
   "metadata": {
    "execution": {
     "iopub.execute_input": "2022-02-10T15:08:08.171163Z",
     "iopub.status.busy": "2022-02-10T15:08:08.170464Z",
     "iopub.status.idle": "2022-02-10T15:08:08.178444Z",
     "shell.execute_reply": "2022-02-10T15:08:08.179008Z",
     "shell.execute_reply.started": "2022-02-10T11:52:33.137882Z"
    },
    "papermill": {
     "duration": 0.054694,
     "end_time": "2022-02-10T15:08:08.179199",
     "exception": false,
     "start_time": "2022-02-10T15:08:08.124505",
     "status": "completed"
    },
    "tags": []
   },
   "outputs": [
    {
     "data": {
      "text/plain": [
       "B96 B98        4\n",
       "G6             4\n",
       "C23 C25 C27    4\n",
       "C22 C26        3\n",
       "F33            3\n",
       "              ..\n",
       "E34            1\n",
       "C7             1\n",
       "C54            1\n",
       "E36            1\n",
       "C148           1\n",
       "Name: Cabin, Length: 147, dtype: int64"
      ]
     },
     "execution_count": 5,
     "metadata": {},
     "output_type": "execute_result"
    }
   ],
   "source": [
    "#train_data[\"Name\"].value_counts()\n",
    "#train_data[\"Sex\"].value_counts()\n",
    "#train_data[\"Ticket\"].value_counts()\n",
    "train_data[\"Cabin\"].value_counts()\n",
    "#train_data[\"Embarked\"].value_counts()"
   ]
  },
  {
   "cell_type": "code",
   "execution_count": 6,
   "id": "1a5a5c87",
   "metadata": {
    "execution": {
     "iopub.execute_input": "2022-02-10T15:08:08.270618Z",
     "iopub.status.busy": "2022-02-10T15:08:08.269959Z",
     "iopub.status.idle": "2022-02-10T15:08:08.279294Z",
     "shell.execute_reply": "2022-02-10T15:08:08.279869Z",
     "shell.execute_reply.started": "2022-02-10T11:52:33.150353Z"
    },
    "papermill": {
     "duration": 0.056751,
     "end_time": "2022-02-10T15:08:08.280053",
     "exception": false,
     "start_time": "2022-02-10T15:08:08.223302",
     "status": "completed"
    },
    "tags": []
   },
   "outputs": [],
   "source": [
    "train_data[\"new_Cabin\"] = train_data[\"Cabin\"].astype(str).str[0]\n",
    "train_data[\"new_Cabin\"].value_counts()\n",
    "test_data[\"new_Cabin\"] = test_data[\"Cabin\"].astype(str).str[0]\n"
   ]
  },
  {
   "cell_type": "markdown",
   "id": "f5ccba04",
   "metadata": {
    "papermill": {
     "duration": 0.044068,
     "end_time": "2022-02-10T15:08:08.369032",
     "exception": false,
     "start_time": "2022-02-10T15:08:08.324964",
     "status": "completed"
    },
    "tags": []
   },
   "source": [
    "# Let's take a look at the numerical attributes"
   ]
  },
  {
   "cell_type": "code",
   "execution_count": 7,
   "id": "bd06aba0",
   "metadata": {
    "execution": {
     "iopub.execute_input": "2022-02-10T15:08:08.460157Z",
     "iopub.status.busy": "2022-02-10T15:08:08.459478Z",
     "iopub.status.idle": "2022-02-10T15:08:08.491546Z",
     "shell.execute_reply": "2022-02-10T15:08:08.492147Z",
     "shell.execute_reply.started": "2022-02-10T11:52:33.166095Z"
    },
    "papermill": {
     "duration": 0.079313,
     "end_time": "2022-02-10T15:08:08.492329",
     "exception": false,
     "start_time": "2022-02-10T15:08:08.413016",
     "status": "completed"
    },
    "tags": []
   },
   "outputs": [
    {
     "data": {
      "text/html": [
       "<div>\n",
       "<style scoped>\n",
       "    .dataframe tbody tr th:only-of-type {\n",
       "        vertical-align: middle;\n",
       "    }\n",
       "\n",
       "    .dataframe tbody tr th {\n",
       "        vertical-align: top;\n",
       "    }\n",
       "\n",
       "    .dataframe thead th {\n",
       "        text-align: right;\n",
       "    }\n",
       "</style>\n",
       "<table border=\"1\" class=\"dataframe\">\n",
       "  <thead>\n",
       "    <tr style=\"text-align: right;\">\n",
       "      <th></th>\n",
       "      <th>PassengerId</th>\n",
       "      <th>Survived</th>\n",
       "      <th>Pclass</th>\n",
       "      <th>Age</th>\n",
       "      <th>SibSp</th>\n",
       "      <th>Parch</th>\n",
       "      <th>Fare</th>\n",
       "    </tr>\n",
       "  </thead>\n",
       "  <tbody>\n",
       "    <tr>\n",
       "      <th>count</th>\n",
       "      <td>891.000000</td>\n",
       "      <td>891.000000</td>\n",
       "      <td>891.000000</td>\n",
       "      <td>714.000000</td>\n",
       "      <td>891.000000</td>\n",
       "      <td>891.000000</td>\n",
       "      <td>891.000000</td>\n",
       "    </tr>\n",
       "    <tr>\n",
       "      <th>mean</th>\n",
       "      <td>446.000000</td>\n",
       "      <td>0.383838</td>\n",
       "      <td>2.308642</td>\n",
       "      <td>29.699118</td>\n",
       "      <td>0.523008</td>\n",
       "      <td>0.381594</td>\n",
       "      <td>32.204208</td>\n",
       "    </tr>\n",
       "    <tr>\n",
       "      <th>std</th>\n",
       "      <td>257.353842</td>\n",
       "      <td>0.486592</td>\n",
       "      <td>0.836071</td>\n",
       "      <td>14.526497</td>\n",
       "      <td>1.102743</td>\n",
       "      <td>0.806057</td>\n",
       "      <td>49.693429</td>\n",
       "    </tr>\n",
       "    <tr>\n",
       "      <th>min</th>\n",
       "      <td>1.000000</td>\n",
       "      <td>0.000000</td>\n",
       "      <td>1.000000</td>\n",
       "      <td>0.420000</td>\n",
       "      <td>0.000000</td>\n",
       "      <td>0.000000</td>\n",
       "      <td>0.000000</td>\n",
       "    </tr>\n",
       "    <tr>\n",
       "      <th>25%</th>\n",
       "      <td>223.500000</td>\n",
       "      <td>0.000000</td>\n",
       "      <td>2.000000</td>\n",
       "      <td>20.125000</td>\n",
       "      <td>0.000000</td>\n",
       "      <td>0.000000</td>\n",
       "      <td>7.910400</td>\n",
       "    </tr>\n",
       "    <tr>\n",
       "      <th>50%</th>\n",
       "      <td>446.000000</td>\n",
       "      <td>0.000000</td>\n",
       "      <td>3.000000</td>\n",
       "      <td>28.000000</td>\n",
       "      <td>0.000000</td>\n",
       "      <td>0.000000</td>\n",
       "      <td>14.454200</td>\n",
       "    </tr>\n",
       "    <tr>\n",
       "      <th>75%</th>\n",
       "      <td>668.500000</td>\n",
       "      <td>1.000000</td>\n",
       "      <td>3.000000</td>\n",
       "      <td>38.000000</td>\n",
       "      <td>1.000000</td>\n",
       "      <td>0.000000</td>\n",
       "      <td>31.000000</td>\n",
       "    </tr>\n",
       "    <tr>\n",
       "      <th>max</th>\n",
       "      <td>891.000000</td>\n",
       "      <td>1.000000</td>\n",
       "      <td>3.000000</td>\n",
       "      <td>80.000000</td>\n",
       "      <td>8.000000</td>\n",
       "      <td>6.000000</td>\n",
       "      <td>512.329200</td>\n",
       "    </tr>\n",
       "  </tbody>\n",
       "</table>\n",
       "</div>"
      ],
      "text/plain": [
       "       PassengerId    Survived      Pclass         Age       SibSp  \\\n",
       "count   891.000000  891.000000  891.000000  714.000000  891.000000   \n",
       "mean    446.000000    0.383838    2.308642   29.699118    0.523008   \n",
       "std     257.353842    0.486592    0.836071   14.526497    1.102743   \n",
       "min       1.000000    0.000000    1.000000    0.420000    0.000000   \n",
       "25%     223.500000    0.000000    2.000000   20.125000    0.000000   \n",
       "50%     446.000000    0.000000    3.000000   28.000000    0.000000   \n",
       "75%     668.500000    1.000000    3.000000   38.000000    1.000000   \n",
       "max     891.000000    1.000000    3.000000   80.000000    8.000000   \n",
       "\n",
       "            Parch        Fare  \n",
       "count  891.000000  891.000000  \n",
       "mean     0.381594   32.204208  \n",
       "std      0.806057   49.693429  \n",
       "min      0.000000    0.000000  \n",
       "25%      0.000000    7.910400  \n",
       "50%      0.000000   14.454200  \n",
       "75%      0.000000   31.000000  \n",
       "max      6.000000  512.329200  "
      ]
     },
     "execution_count": 7,
     "metadata": {},
     "output_type": "execute_result"
    }
   ],
   "source": [
    "train_data.describe()"
   ]
  },
  {
   "cell_type": "code",
   "execution_count": 8,
   "id": "99b9f39d",
   "metadata": {
    "execution": {
     "iopub.execute_input": "2022-02-10T15:08:08.585290Z",
     "iopub.status.busy": "2022-02-10T15:08:08.584631Z",
     "iopub.status.idle": "2022-02-10T15:08:09.030683Z",
     "shell.execute_reply": "2022-02-10T15:08:09.031216Z",
     "shell.execute_reply.started": "2022-02-10T11:52:33.200208Z"
    },
    "papermill": {
     "duration": 0.493702,
     "end_time": "2022-02-10T15:08:09.031396",
     "exception": false,
     "start_time": "2022-02-10T15:08:08.537694",
     "status": "completed"
    },
    "tags": []
   },
   "outputs": [
    {
     "data": {
      "text/plain": [
       "PassengerId      0\n",
       "Survived         0\n",
       "Pclass           0\n",
       "Name             0\n",
       "Sex              0\n",
       "Age            177\n",
       "SibSp            0\n",
       "Parch            0\n",
       "Ticket           0\n",
       "Fare             0\n",
       "Cabin          687\n",
       "Embarked         2\n",
       "new_Cabin        0\n",
       "dtype: int64"
      ]
     },
     "execution_count": 8,
     "metadata": {},
     "output_type": "execute_result"
    },
    {
     "data": {
      "image/png": "[encoded data removed]",
      "text/plain": [
       "<Figure size 432x288 with 2 Axes>"
      ]
     },
     "metadata": {
      "needs_background": "light"
     },
     "output_type": "display_data"
    }
   ],
   "source": [
    "sns.heatmap(train_data.isnull())\n",
    "train_data.isnull().sum()"
   ]
  },
  {
   "cell_type": "code",
   "execution_count": 9,
   "id": "71fc7b92",
   "metadata": {
    "execution": {
     "iopub.execute_input": "2022-02-10T15:08:09.126946Z",
     "iopub.status.busy": "2022-02-10T15:08:09.125957Z",
     "iopub.status.idle": "2022-02-10T15:08:09.336787Z",
     "shell.execute_reply": "2022-02-10T15:08:09.335943Z",
     "shell.execute_reply.started": "2022-02-10T11:52:33.669381Z"
    },
    "papermill": {
     "duration": 0.260046,
     "end_time": "2022-02-10T15:08:09.336944",
     "exception": false,
     "start_time": "2022-02-10T15:08:09.076898",
     "status": "completed"
    },
    "tags": []
   },
   "outputs": [
    {
     "data": {
      "text/plain": [
       "<AxesSubplot:>"
      ]
     },
     "execution_count": 9,
     "metadata": {},
     "output_type": "execute_result"
    },
    {
     "data": {
      "image/png": "[encoded data removed]",
      "text/plain": [
       "<Figure size 432x288 with 1 Axes>"
      ]
     },
     "metadata": {
      "needs_background": "light"
     },
     "output_type": "display_data"
    }
   ],
   "source": [
    "train_data[\"Age\"].hist()"
   ]
  },
  {
   "cell_type": "code",
   "execution_count": 10,
   "id": "04bec241",
   "metadata": {
    "execution": {
     "iopub.execute_input": "2022-02-10T15:08:09.436183Z",
     "iopub.status.busy": "2022-02-10T15:08:09.433064Z",
     "iopub.status.idle": "2022-02-10T15:08:09.448277Z",
     "shell.execute_reply": "2022-02-10T15:08:09.448802Z",
     "shell.execute_reply.started": "2022-02-10T11:52:33.930987Z"
    },
    "papermill": {
     "duration": 0.065382,
     "end_time": "2022-02-10T15:08:09.449001",
     "exception": false,
     "start_time": "2022-02-10T15:08:09.383619",
     "status": "completed"
    },
    "tags": []
   },
   "outputs": [],
   "source": [
    "train_data[\"Agecat\"] = train_data[\"Age\"] // 15 * 15\n",
    "train_data[[\"Agecat\", \"Survived\"]].groupby(['Agecat']).mean()\n",
    "test_data[\"Agecat\"] = test_data[\"Age\"] // 15 * 15\n"
   ]
  },
  {
   "cell_type": "markdown",
   "id": "87620990",
   "metadata": {
    "papermill": {
     "duration": 0.046064,
     "end_time": "2022-02-10T15:08:09.541603",
     "exception": false,
     "start_time": "2022-02-10T15:08:09.495539",
     "status": "completed"
    },
    "tags": []
   },
   "source": [
    "# Looking for Correlations"
   ]
  },
  {
   "cell_type": "code",
   "execution_count": 11,
   "id": "29045b44",
   "metadata": {
    "execution": {
     "iopub.execute_input": "2022-02-10T15:08:09.637946Z",
     "iopub.status.busy": "2022-02-10T15:08:09.637294Z",
     "iopub.status.idle": "2022-02-10T15:08:10.220350Z",
     "shell.execute_reply": "2022-02-10T15:08:10.219781Z",
     "shell.execute_reply.started": "2022-02-10T11:52:33.949287Z"
    },
    "papermill": {
     "duration": 0.632688,
     "end_time": "2022-02-10T15:08:10.220490",
     "exception": false,
     "start_time": "2022-02-10T15:08:09.587802",
     "status": "completed"
    },
    "tags": []
   },
   "outputs": [
    {
     "data": {
      "image/png": "[encoded data removed]",
      "text/plain": [
       "<Figure size 864x576 with 2 Axes>"
      ]
     },
     "metadata": {
      "needs_background": "light"
     },
     "output_type": "display_data"
    }
   ],
   "source": [
    "plt.figure(figsize=(12,8))\n",
    "sns.heatmap(train_data.corr(),annot=True,cmap='BrBG')\n",
    "plt.title('Correlation Heatmap\\n',fontweight='bold',fontsize=14)\n",
    "plt.show()\n"
   ]
  },
  {
   "cell_type": "code",
   "execution_count": 12,
   "id": "166f9cb2",
   "metadata": {
    "execution": {
     "iopub.execute_input": "2022-02-10T15:08:10.324747Z",
     "iopub.status.busy": "2022-02-10T15:08:10.324023Z",
     "iopub.status.idle": "2022-02-10T15:08:10.331472Z",
     "shell.execute_reply": "2022-02-10T15:08:10.331978Z",
     "shell.execute_reply.started": "2022-02-10T11:52:34.558323Z"
    },
    "papermill": {
     "duration": 0.062984,
     "end_time": "2022-02-10T15:08:10.332173",
     "exception": false,
     "start_time": "2022-02-10T15:08:10.269189",
     "status": "completed"
    },
    "tags": []
   },
   "outputs": [
    {
     "data": {
      "text/plain": [
       "Survived       1.000000\n",
       "Fare           0.257307\n",
       "Parch          0.081629\n",
       "PassengerId   -0.005007\n",
       "SibSp         -0.035322\n",
       "Agecat        -0.058848\n",
       "Age           -0.077221\n",
       "Pclass        -0.338481\n",
       "Name: Survived, dtype: float64"
      ]
     },
     "execution_count": 12,
     "metadata": {},
     "output_type": "execute_result"
    }
   ],
   "source": [
    "corr_matrix = train_data.corr()\n",
    "corr_matrix[\"Survived\"].sort_values(ascending=False)\n"
   ]
  },
  {
   "cell_type": "markdown",
   "id": "f3863d3b",
   "metadata": {
    "papermill": {
     "duration": 0.049184,
     "end_time": "2022-02-10T15:08:10.430238",
     "exception": false,
     "start_time": "2022-02-10T15:08:10.381054",
     "status": "completed"
    },
    "tags": []
   },
   "source": [
    "# Pipeline for Numerical Attributes"
   ]
  },
  {
   "cell_type": "code",
   "execution_count": 13,
   "id": "0147b5e2",
   "metadata": {
    "execution": {
     "iopub.execute_input": "2022-02-10T15:08:10.530950Z",
     "iopub.status.busy": "2022-02-10T15:08:10.530286Z",
     "iopub.status.idle": "2022-02-10T15:08:10.872668Z",
     "shell.execute_reply": "2022-02-10T15:08:10.872017Z",
     "shell.execute_reply.started": "2022-02-10T11:52:34.568910Z"
    },
    "papermill": {
     "duration": 0.39402,
     "end_time": "2022-02-10T15:08:10.872845",
     "exception": false,
     "start_time": "2022-02-10T15:08:10.478825",
     "status": "completed"
    },
    "tags": []
   },
   "outputs": [],
   "source": [
    "from sklearn.pipeline import Pipeline\n",
    "from sklearn.impute import SimpleImputer\n",
    "from sklearn.preprocessing import StandardScaler\n",
    "\n",
    "num_pipeline = Pipeline([\n",
    "        (\"imputer\", SimpleImputer(strategy=\"median\")),\n",
    "        (\"scaler\", StandardScaler())\n",
    "    ])"
   ]
  },
  {
   "cell_type": "markdown",
   "id": "a553aad9",
   "metadata": {
    "papermill": {
     "duration": 0.049194,
     "end_time": "2022-02-10T15:08:10.971778",
     "exception": false,
     "start_time": "2022-02-10T15:08:10.922584",
     "status": "completed"
    },
    "tags": []
   },
   "source": [
    "# Pipeline for Categorical Attributes"
   ]
  },
  {
   "cell_type": "code",
   "execution_count": 14,
   "id": "191fd212",
   "metadata": {
    "execution": {
     "iopub.execute_input": "2022-02-10T15:08:11.078267Z",
     "iopub.status.busy": "2022-02-10T15:08:11.077513Z",
     "iopub.status.idle": "2022-02-10T15:08:11.078844Z",
     "shell.execute_reply": "2022-02-10T15:08:11.079509Z",
     "shell.execute_reply.started": "2022-02-10T11:52:34.886614Z"
    },
    "papermill": {
     "duration": 0.058084,
     "end_time": "2022-02-10T15:08:11.079708",
     "exception": false,
     "start_time": "2022-02-10T15:08:11.021624",
     "status": "completed"
    },
    "tags": []
   },
   "outputs": [],
   "source": [
    "from sklearn.preprocessing import OneHotEncoder\n",
    "cat_pipeline = Pipeline([\n",
    "        (\"imputer\", SimpleImputer(strategy=\"most_frequent\")),\n",
    "        (\"cat_encoder\", OneHotEncoder(sparse=False)),\n",
    "    ])"
   ]
  },
  {
   "cell_type": "markdown",
   "id": "dffa553d",
   "metadata": {
    "papermill": {
     "duration": 0.048639,
     "end_time": "2022-02-10T15:08:11.178972",
     "exception": false,
     "start_time": "2022-02-10T15:08:11.130333",
     "status": "completed"
    },
    "tags": []
   },
   "source": [
    "# PIPELINE"
   ]
  },
  {
   "cell_type": "code",
   "execution_count": 15,
   "id": "176b4aa2",
   "metadata": {
    "execution": {
     "iopub.execute_input": "2022-02-10T15:08:11.282430Z",
     "iopub.status.busy": "2022-02-10T15:08:11.281650Z",
     "iopub.status.idle": "2022-02-10T15:08:11.290031Z",
     "shell.execute_reply": "2022-02-10T15:08:11.290578Z",
     "shell.execute_reply.started": "2022-02-10T11:52:34.894434Z"
    },
    "papermill": {
     "duration": 0.063331,
     "end_time": "2022-02-10T15:08:11.290770",
     "exception": false,
     "start_time": "2022-02-10T15:08:11.227439",
     "status": "completed"
    },
    "tags": []
   },
   "outputs": [],
   "source": [
    "from sklearn.compose import ColumnTransformer\n",
    "\n",
    "num_attribs = [\"Age\", \"SibSp\", \"Parch\", \"Fare\",\"Agecat\"]\n",
    "cat_attribs = [\"Pclass\", \"Sex\", \"Embarked\", \"new_Cabin\"]\n",
    "\n",
    "preprocess_pipeline = ColumnTransformer([\n",
    "        (\"num\", num_pipeline, num_attribs),\n",
    "        (\"cat\", cat_pipeline, cat_attribs),\n",
    "    ])"
   ]
  },
  {
   "cell_type": "code",
   "execution_count": 16,
   "id": "8b39f9fe",
   "metadata": {
    "execution": {
     "iopub.execute_input": "2022-02-10T15:08:11.391610Z",
     "iopub.status.busy": "2022-02-10T15:08:11.390914Z",
     "iopub.status.idle": "2022-02-10T15:08:11.417054Z",
     "shell.execute_reply": "2022-02-10T15:08:11.417664Z",
     "shell.execute_reply.started": "2022-02-10T11:52:34.911519Z"
    },
    "papermill": {
     "duration": 0.077924,
     "end_time": "2022-02-10T15:08:11.417850",
     "exception": false,
     "start_time": "2022-02-10T15:08:11.339926",
     "status": "completed"
    },
    "tags": []
   },
   "outputs": [
    {
     "data": {
      "text/plain": [
       "(891, 22)"
      ]
     },
     "execution_count": 16,
     "metadata": {},
     "output_type": "execute_result"
    }
   ],
   "source": [
    "X_train = preprocess_pipeline.fit_transform(\n",
    "    train_data[num_attribs + cat_attribs])\n",
    "X_train\n",
    "X_train.shape"
   ]
  },
  {
   "cell_type": "code",
   "execution_count": 17,
   "id": "0f045889",
   "metadata": {
    "execution": {
     "iopub.execute_input": "2022-02-10T15:08:11.525020Z",
     "iopub.status.busy": "2022-02-10T15:08:11.524331Z",
     "iopub.status.idle": "2022-02-10T15:08:11.526413Z",
     "shell.execute_reply": "2022-02-10T15:08:11.526872Z",
     "shell.execute_reply.started": "2022-02-10T11:52:34.943138Z"
    },
    "papermill": {
     "duration": 0.058501,
     "end_time": "2022-02-10T15:08:11.527045",
     "exception": false,
     "start_time": "2022-02-10T15:08:11.468544",
     "status": "completed"
    },
    "tags": []
   },
   "outputs": [],
   "source": [
    "y_train = train_data[\"Survived\"]"
   ]
  },
  {
   "cell_type": "markdown",
   "id": "d333aeae",
   "metadata": {
    "papermill": {
     "duration": 0.04917,
     "end_time": "2022-02-10T15:08:11.626630",
     "exception": false,
     "start_time": "2022-02-10T15:08:11.577460",
     "status": "completed"
    },
    "tags": []
   },
   "source": [
    "# Select and Train a Model\n",
    "\n",
    "# Training and Evaluating on the Training Set\n"
   ]
  },
  {
   "cell_type": "code",
   "execution_count": 18,
   "id": "2a898d53",
   "metadata": {
    "execution": {
     "iopub.execute_input": "2022-02-10T15:08:11.731162Z",
     "iopub.status.busy": "2022-02-10T15:08:11.729064Z",
     "iopub.status.idle": "2022-02-10T15:08:12.026895Z",
     "shell.execute_reply": "2022-02-10T15:08:12.028150Z",
     "shell.execute_reply.started": "2022-02-10T11:52:34.948240Z"
    },
    "papermill": {
     "duration": 0.351077,
     "end_time": "2022-02-10T15:08:12.028341",
     "exception": false,
     "start_time": "2022-02-10T15:08:11.677264",
     "status": "completed"
    },
    "tags": []
   },
   "outputs": [
    {
     "data": {
      "text/plain": [
       "RandomForestClassifier(random_state=42)"
      ]
     },
     "execution_count": 18,
     "metadata": {},
     "output_type": "execute_result"
    }
   ],
   "source": [
    "from sklearn.ensemble import RandomForestClassifier\n",
    "\n",
    "forest_clf = RandomForestClassifier(n_estimators=100, random_state=42)\n",
    "forest_clf.fit(X_train, y_train)"
   ]
  },
  {
   "cell_type": "code",
   "execution_count": 19,
   "id": "f90eb312",
   "metadata": {
    "execution": {
     "iopub.execute_input": "2022-02-10T15:08:12.133126Z",
     "iopub.status.busy": "2022-02-10T15:08:12.132459Z",
     "iopub.status.idle": "2022-02-10T15:08:12.160069Z",
     "shell.execute_reply": "2022-02-10T15:08:12.159468Z",
     "shell.execute_reply.started": "2022-02-10T12:13:28.074497Z"
    },
    "papermill": {
     "duration": 0.082539,
     "end_time": "2022-02-10T15:08:12.160255",
     "exception": false,
     "start_time": "2022-02-10T15:08:12.077716",
     "status": "completed"
    },
    "tags": []
   },
   "outputs": [],
   "source": [
    "X_test = preprocess_pipeline.transform(test_data[num_attribs + cat_attribs])\n",
    "y_pred = forest_clf.predict(X_test)"
   ]
  },
  {
   "cell_type": "code",
   "execution_count": 20,
   "id": "587d6a1f",
   "metadata": {
    "execution": {
     "iopub.execute_input": "2022-02-10T15:08:12.262398Z",
     "iopub.status.busy": "2022-02-10T15:08:12.261768Z",
     "iopub.status.idle": "2022-02-10T15:08:12.294300Z",
     "shell.execute_reply": "2022-02-10T15:08:12.294785Z",
     "shell.execute_reply.started": "2022-02-10T12:10:03.620391Z"
    },
    "papermill": {
     "duration": 0.085152,
     "end_time": "2022-02-10T15:08:12.294970",
     "exception": false,
     "start_time": "2022-02-10T15:08:12.209818",
     "status": "completed"
    },
    "tags": []
   },
   "outputs": [
    {
     "data": {
      "text/plain": [
       "SVC(gamma='auto')"
      ]
     },
     "execution_count": 20,
     "metadata": {},
     "output_type": "execute_result"
    }
   ],
   "source": [
    "from sklearn.svm import SVC\n",
    "\n",
    "svm_clf = SVC(gamma=\"auto\")\n",
    "svm_clf.fit(X_train, y_train)"
   ]
  },
  {
   "cell_type": "code",
   "execution_count": 21,
   "id": "2d13b835",
   "metadata": {
    "execution": {
     "iopub.execute_input": "2022-02-10T15:08:12.400675Z",
     "iopub.status.busy": "2022-02-10T15:08:12.399939Z",
     "iopub.status.idle": "2022-02-10T15:08:12.425462Z",
     "shell.execute_reply": "2022-02-10T15:08:12.424923Z",
     "shell.execute_reply.started": "2022-02-10T12:13:53.441313Z"
    },
    "papermill": {
     "duration": 0.080846,
     "end_time": "2022-02-10T15:08:12.425609",
     "exception": false,
     "start_time": "2022-02-10T15:08:12.344763",
     "status": "completed"
    },
    "tags": []
   },
   "outputs": [
    {
     "data": {
      "text/html": [
       "<div>\n",
       "<style scoped>\n",
       "    .dataframe tbody tr th:only-of-type {\n",
       "        vertical-align: middle;\n",
       "    }\n",
       "\n",
       "    .dataframe tbody tr th {\n",
       "        vertical-align: top;\n",
       "    }\n",
       "\n",
       "    .dataframe thead th {\n",
       "        text-align: right;\n",
       "    }\n",
       "</style>\n",
       "<table border=\"1\" class=\"dataframe\">\n",
       "  <thead>\n",
       "    <tr style=\"text-align: right;\">\n",
       "      <th></th>\n",
       "      <th>PassengerId</th>\n",
       "      <th>Survived</th>\n",
       "    </tr>\n",
       "  </thead>\n",
       "  <tbody>\n",
       "    <tr>\n",
       "      <th>0</th>\n",
       "      <td>892</td>\n",
       "      <td>0</td>\n",
       "    </tr>\n",
       "    <tr>\n",
       "      <th>1</th>\n",
       "      <td>893</td>\n",
       "      <td>1</td>\n",
       "    </tr>\n",
       "    <tr>\n",
       "      <th>2</th>\n",
       "      <td>894</td>\n",
       "      <td>0</td>\n",
       "    </tr>\n",
       "    <tr>\n",
       "      <th>3</th>\n",
       "      <td>895</td>\n",
       "      <td>0</td>\n",
       "    </tr>\n",
       "    <tr>\n",
       "      <th>4</th>\n",
       "      <td>896</td>\n",
       "      <td>1</td>\n",
       "    </tr>\n",
       "    <tr>\n",
       "      <th>...</th>\n",
       "      <td>...</td>\n",
       "      <td>...</td>\n",
       "    </tr>\n",
       "    <tr>\n",
       "      <th>413</th>\n",
       "      <td>1305</td>\n",
       "      <td>0</td>\n",
       "    </tr>\n",
       "    <tr>\n",
       "      <th>414</th>\n",
       "      <td>1306</td>\n",
       "      <td>1</td>\n",
       "    </tr>\n",
       "    <tr>\n",
       "      <th>415</th>\n",
       "      <td>1307</td>\n",
       "      <td>0</td>\n",
       "    </tr>\n",
       "    <tr>\n",
       "      <th>416</th>\n",
       "      <td>1308</td>\n",
       "      <td>0</td>\n",
       "    </tr>\n",
       "    <tr>\n",
       "      <th>417</th>\n",
       "      <td>1309</td>\n",
       "      <td>0</td>\n",
       "    </tr>\n",
       "  </tbody>\n",
       "</table>\n",
       "<p>418 rows × 2 columns</p>\n",
       "</div>"
      ],
      "text/plain": [
       "     PassengerId  Survived\n",
       "0            892         0\n",
       "1            893         1\n",
       "2            894         0\n",
       "3            895         0\n",
       "4            896         1\n",
       "..           ...       ...\n",
       "413         1305         0\n",
       "414         1306         1\n",
       "415         1307         0\n",
       "416         1308         0\n",
       "417         1309         0\n",
       "\n",
       "[418 rows x 2 columns]"
      ]
     },
     "execution_count": 21,
     "metadata": {},
     "output_type": "execute_result"
    }
   ],
   "source": [
    "X_test = preprocess_pipeline.transform(test_data[num_attribs + cat_attribs])\n",
    "y_pred2 = svm_clf.predict(X_test)\n",
    "\n",
    "result = pd.DataFrame({'PassengerId':test_data['PassengerId'],'Survived':y_pred2})\n",
    "result\n"
   ]
  },
  {
   "cell_type": "code",
   "execution_count": 22,
   "id": "6f15f5aa",
   "metadata": {
    "execution": {
     "iopub.execute_input": "2022-02-10T15:08:12.532507Z",
     "iopub.status.busy": "2022-02-10T15:08:12.531813Z",
     "iopub.status.idle": "2022-02-10T15:08:12.542593Z",
     "shell.execute_reply": "2022-02-10T15:08:12.543168Z",
     "shell.execute_reply.started": "2022-02-10T12:10:55.019033Z"
    },
    "papermill": {
     "duration": 0.067177,
     "end_time": "2022-02-10T15:08:12.543361",
     "exception": false,
     "start_time": "2022-02-10T15:08:12.476184",
     "status": "completed"
    },
    "tags": []
   },
   "outputs": [
    {
     "data": {
      "text/plain": [
       "SGDClassifier(random_state=42)"
      ]
     },
     "execution_count": 22,
     "metadata": {},
     "output_type": "execute_result"
    }
   ],
   "source": [
    "from sklearn.linear_model import SGDClassifier\n",
    "\n",
    "sgd_clf = SGDClassifier(max_iter=1000, tol=1e-3, random_state=42)\n",
    "sgd_clf.fit(X_train, y_train)"
   ]
  },
  {
   "cell_type": "code",
   "execution_count": 23,
   "id": "5e1138e9",
   "metadata": {
    "execution": {
     "iopub.execute_input": "2022-02-10T15:08:12.647893Z",
     "iopub.status.busy": "2022-02-10T15:08:12.647245Z",
     "iopub.status.idle": "2022-02-10T15:08:12.659479Z",
     "shell.execute_reply": "2022-02-10T15:08:12.660024Z",
     "shell.execute_reply.started": "2022-02-10T12:11:05.986117Z"
    },
    "papermill": {
     "duration": 0.066147,
     "end_time": "2022-02-10T15:08:12.660217",
     "exception": false,
     "start_time": "2022-02-10T15:08:12.594070",
     "status": "completed"
    },
    "tags": []
   },
   "outputs": [],
   "source": [
    "X_test = preprocess_pipeline.transform(test_data[num_attribs + cat_attribs])\n",
    "y_pred3 = sgd_clf.predict(X_test)"
   ]
  },
  {
   "cell_type": "markdown",
   "id": "68375137",
   "metadata": {
    "papermill": {
     "duration": 0.050867,
     "end_time": "2022-02-10T15:08:12.763352",
     "exception": false,
     "start_time": "2022-02-10T15:08:12.712485",
     "status": "completed"
    },
    "tags": []
   },
   "source": [
    "# Performance Measures\n"
   ]
  },
  {
   "cell_type": "markdown",
   "id": "19a13a17",
   "metadata": {
    "papermill": {
     "duration": 0.050408,
     "end_time": "2022-02-10T15:08:12.864451",
     "exception": false,
     "start_time": "2022-02-10T15:08:12.814043",
     "status": "completed"
    },
    "tags": []
   },
   "source": [
    "# Cross Validation"
   ]
  },
  {
   "cell_type": "code",
   "execution_count": 24,
   "id": "f6266b05",
   "metadata": {
    "execution": {
     "iopub.execute_input": "2022-02-10T15:08:12.969274Z",
     "iopub.status.busy": "2022-02-10T15:08:12.968342Z",
     "iopub.status.idle": "2022-02-10T15:08:13.206479Z",
     "shell.execute_reply": "2022-02-10T15:08:13.205826Z",
     "shell.execute_reply.started": "2022-02-10T14:59:41.023128Z"
    },
    "papermill": {
     "duration": 0.291474,
     "end_time": "2022-02-10T15:08:13.206627",
     "exception": false,
     "start_time": "2022-02-10T15:08:12.915153",
     "status": "completed"
    },
    "tags": []
   },
   "outputs": [
    {
     "data": {
      "text/plain": [
       "0.8260549313358301"
      ]
     },
     "execution_count": 24,
     "metadata": {},
     "output_type": "execute_result"
    }
   ],
   "source": [
    "from sklearn.model_selection import cross_val_score\n",
    "\n",
    "svm_scores = cross_val_score(svm_clf, X_train, y_train, cv=10)\n",
    "svm_scores.mean()\n"
   ]
  },
  {
   "cell_type": "code",
   "execution_count": 25,
   "id": "4f7c8824",
   "metadata": {
    "execution": {
     "iopub.execute_input": "2022-02-10T15:08:13.314301Z",
     "iopub.status.busy": "2022-02-10T15:08:13.313598Z",
     "iopub.status.idle": "2022-02-10T15:08:15.658635Z",
     "shell.execute_reply": "2022-02-10T15:08:15.657937Z",
     "shell.execute_reply.started": "2022-02-10T12:11:20.127871Z"
    },
    "papermill": {
     "duration": 2.400713,
     "end_time": "2022-02-10T15:08:15.658781",
     "exception": false,
     "start_time": "2022-02-10T15:08:13.258068",
     "status": "completed"
    },
    "tags": []
   },
   "outputs": [
    {
     "data": {
      "text/plain": [
       "0.8115106117353308"
      ]
     },
     "execution_count": 25,
     "metadata": {},
     "output_type": "execute_result"
    }
   ],
   "source": [
    "forest_scores = cross_val_score(forest_clf, X_train, y_train, cv=10)\n",
    "forest_scores.mean()"
   ]
  },
  {
   "cell_type": "code",
   "execution_count": 26,
   "id": "088c85dc",
   "metadata": {
    "execution": {
     "iopub.execute_input": "2022-02-10T15:08:15.768702Z",
     "iopub.status.busy": "2022-02-10T15:08:15.768010Z",
     "iopub.status.idle": "2022-02-10T15:08:15.836264Z",
     "shell.execute_reply": "2022-02-10T15:08:15.835679Z",
     "shell.execute_reply.started": "2022-02-10T12:11:18.170547Z"
    },
    "papermill": {
     "duration": 0.124591,
     "end_time": "2022-02-10T15:08:15.836412",
     "exception": false,
     "start_time": "2022-02-10T15:08:15.711821",
     "status": "completed"
    },
    "tags": []
   },
   "outputs": [
    {
     "data": {
      "text/plain": [
       "0.7711360799001248"
      ]
     },
     "execution_count": 26,
     "metadata": {},
     "output_type": "execute_result"
    }
   ],
   "source": [
    "sgd_scores = cross_val_score(sgd_clf, X_train, y_train, cv=10)\n",
    "sgd_scores.mean()"
   ]
  },
  {
   "cell_type": "code",
   "execution_count": 27,
   "id": "04751ec9",
   "metadata": {
    "execution": {
     "iopub.execute_input": "2022-02-10T15:08:15.944337Z",
     "iopub.status.busy": "2022-02-10T15:08:15.943602Z",
     "iopub.status.idle": "2022-02-10T15:08:16.280512Z",
     "shell.execute_reply": "2022-02-10T15:08:16.281003Z",
     "shell.execute_reply.started": "2022-02-10T12:08:05.066545Z"
    },
    "papermill": {
     "duration": 0.392287,
     "end_time": "2022-02-10T15:08:16.281186",
     "exception": false,
     "start_time": "2022-02-10T15:08:15.888899",
     "status": "completed"
    },
    "tags": []
   },
   "outputs": [
    {
     "data": {
      "image/png": "[encoded data removed]",
      "text/plain": [
       "<Figure size 576x288 with 1 Axes>"
      ]
     },
     "metadata": {
      "needs_background": "light"
     },
     "output_type": "display_data"
    }
   ],
   "source": [
    "plt.figure(figsize=(8, 4))\n",
    "plt.plot([1]*10, svm_scores,\".\")\n",
    "plt.plot([2]*10, forest_scores, \".\")\n",
    "plt.plot([2]*10, sgd_scores, \".\")\n",
    "plt.boxplot([svm_scores, forest_scores, sgd_scores], labels=(\"SVM\",\"Random Forest\",\"SGD\"))\n",
    "plt.ylabel(\"Accuracy\", fontsize=14)\n",
    "plt.show()"
   ]
  },
  {
   "cell_type": "markdown",
   "id": "5a229496",
   "metadata": {
    "papermill": {
     "duration": 0.053716,
     "end_time": "2022-02-10T15:08:16.387910",
     "exception": false,
     "start_time": "2022-02-10T15:08:16.334194",
     "status": "completed"
    },
    "tags": []
   },
   "source": [
    "# Confusion Matrix\n"
   ]
  },
  {
   "cell_type": "code",
   "execution_count": 28,
   "id": "5ee559c3",
   "metadata": {
    "execution": {
     "iopub.execute_input": "2022-02-10T15:08:16.496141Z",
     "iopub.status.busy": "2022-02-10T15:08:16.495143Z",
     "iopub.status.idle": "2022-02-10T15:08:16.548047Z",
     "shell.execute_reply": "2022-02-10T15:08:16.548737Z",
     "shell.execute_reply.started": "2022-02-10T12:23:29.429594Z"
    },
    "papermill": {
     "duration": 0.108881,
     "end_time": "2022-02-10T15:08:16.548909",
     "exception": false,
     "start_time": "2022-02-10T15:08:16.440028",
     "status": "completed"
    },
    "tags": []
   },
   "outputs": [],
   "source": [
    "from sklearn.model_selection import cross_val_predict\n",
    "\n",
    "y_train_pred = cross_val_predict(svm_clf, X_train, y_train, cv=3)"
   ]
  },
  {
   "cell_type": "code",
   "execution_count": 29,
   "id": "94360410",
   "metadata": {
    "execution": {
     "iopub.execute_input": "2022-02-10T15:08:16.658973Z",
     "iopub.status.busy": "2022-02-10T15:08:16.658023Z",
     "iopub.status.idle": "2022-02-10T15:08:16.664386Z",
     "shell.execute_reply": "2022-02-10T15:08:16.664993Z",
     "shell.execute_reply.started": "2022-02-10T12:23:30.711617Z"
    },
    "papermill": {
     "duration": 0.064036,
     "end_time": "2022-02-10T15:08:16.665176",
     "exception": false,
     "start_time": "2022-02-10T15:08:16.601140",
     "status": "completed"
    },
    "tags": []
   },
   "outputs": [
    {
     "data": {
      "text/plain": [
       "array([[487,  62],\n",
       "       [ 95, 247]])"
      ]
     },
     "execution_count": 29,
     "metadata": {},
     "output_type": "execute_result"
    }
   ],
   "source": [
    "from sklearn.metrics import confusion_matrix\n",
    "\n",
    "confusion_matrix(y_train, y_train_pred)"
   ]
  },
  {
   "cell_type": "code",
   "execution_count": 30,
   "id": "7878ad94",
   "metadata": {
    "execution": {
     "iopub.execute_input": "2022-02-10T15:08:16.777200Z",
     "iopub.status.busy": "2022-02-10T15:08:16.776224Z",
     "iopub.status.idle": "2022-02-10T15:08:16.782270Z",
     "shell.execute_reply": "2022-02-10T15:08:16.782769Z",
     "shell.execute_reply.started": "2022-02-10T12:23:33.267617Z"
    },
    "papermill": {
     "duration": 0.064413,
     "end_time": "2022-02-10T15:08:16.782938",
     "exception": false,
     "start_time": "2022-02-10T15:08:16.718525",
     "status": "completed"
    },
    "tags": []
   },
   "outputs": [
    {
     "data": {
      "text/plain": [
       "array([[549,   0],\n",
       "       [  0, 342]])"
      ]
     },
     "execution_count": 30,
     "metadata": {},
     "output_type": "execute_result"
    }
   ],
   "source": [
    "y_train_perfect_predictions = y_train  # pretend we reached perfection\n",
    "confusion_matrix(y_train, y_train_perfect_predictions)"
   ]
  },
  {
   "cell_type": "markdown",
   "id": "d75c52ef",
   "metadata": {
    "papermill": {
     "duration": 0.052578,
     "end_time": "2022-02-10T15:08:16.890041",
     "exception": false,
     "start_time": "2022-02-10T15:08:16.837463",
     "status": "completed"
    },
    "tags": []
   },
   "source": [
    "# Precision and Recall"
   ]
  },
  {
   "cell_type": "code",
   "execution_count": 31,
   "id": "c8e6c98a",
   "metadata": {
    "execution": {
     "iopub.execute_input": "2022-02-10T15:08:17.000014Z",
     "iopub.status.busy": "2022-02-10T15:08:16.998982Z",
     "iopub.status.idle": "2022-02-10T15:08:17.006541Z",
     "shell.execute_reply": "2022-02-10T15:08:17.007037Z",
     "shell.execute_reply.started": "2022-02-10T12:23:35.961467Z"
    },
    "papermill": {
     "duration": 0.064386,
     "end_time": "2022-02-10T15:08:17.007220",
     "exception": false,
     "start_time": "2022-02-10T15:08:16.942834",
     "status": "completed"
    },
    "tags": []
   },
   "outputs": [
    {
     "data": {
      "text/plain": [
       "0.7993527508090615"
      ]
     },
     "execution_count": 31,
     "metadata": {},
     "output_type": "execute_result"
    }
   ],
   "source": [
    "from sklearn.metrics import precision_score, recall_score\n",
    "\n",
    "precision_score(y_train, y_train_pred)"
   ]
  },
  {
   "cell_type": "code",
   "execution_count": 32,
   "id": "eaf7d061",
   "metadata": {
    "execution": {
     "iopub.execute_input": "2022-02-10T15:08:17.121195Z",
     "iopub.status.busy": "2022-02-10T15:08:17.120168Z",
     "iopub.status.idle": "2022-02-10T15:08:17.125863Z",
     "shell.execute_reply": "2022-02-10T15:08:17.126473Z",
     "shell.execute_reply.started": "2022-02-10T12:23:38.689020Z"
    },
    "papermill": {
     "duration": 0.065352,
     "end_time": "2022-02-10T15:08:17.126659",
     "exception": false,
     "start_time": "2022-02-10T15:08:17.061307",
     "status": "completed"
    },
    "tags": []
   },
   "outputs": [
    {
     "data": {
      "text/plain": [
       "0.7222222222222222"
      ]
     },
     "execution_count": 32,
     "metadata": {},
     "output_type": "execute_result"
    }
   ],
   "source": [
    "recall_score(y_train, y_train_pred)"
   ]
  },
  {
   "cell_type": "markdown",
   "id": "32980123",
   "metadata": {
    "papermill": {
     "duration": 0.053393,
     "end_time": "2022-02-10T15:08:17.234572",
     "exception": false,
     "start_time": "2022-02-10T15:08:17.181179",
     "status": "completed"
    },
    "tags": []
   },
   "source": [
    "# F1 Score"
   ]
  },
  {
   "cell_type": "code",
   "execution_count": 33,
   "id": "980ffa8e",
   "metadata": {
    "execution": {
     "iopub.execute_input": "2022-02-10T15:08:17.345152Z",
     "iopub.status.busy": "2022-02-10T15:08:17.344159Z",
     "iopub.status.idle": "2022-02-10T15:08:17.351554Z",
     "shell.execute_reply": "2022-02-10T15:08:17.352167Z",
     "shell.execute_reply.started": "2022-02-10T12:25:13.578628Z"
    },
    "papermill": {
     "duration": 0.064534,
     "end_time": "2022-02-10T15:08:17.352345",
     "exception": false,
     "start_time": "2022-02-10T15:08:17.287811",
     "status": "completed"
    },
    "tags": []
   },
   "outputs": [
    {
     "data": {
      "text/plain": [
       "0.7588325652841783"
      ]
     },
     "execution_count": 33,
     "metadata": {},
     "output_type": "execute_result"
    }
   ],
   "source": [
    "from sklearn.metrics import f1_score\n",
    "\n",
    "f1_score(y_train, y_train_pred)"
   ]
  },
  {
   "cell_type": "markdown",
   "id": "0fbd2a13",
   "metadata": {
    "papermill": {
     "duration": 0.053249,
     "end_time": "2022-02-10T15:08:17.459493",
     "exception": false,
     "start_time": "2022-02-10T15:08:17.406244",
     "status": "completed"
    },
    "tags": []
   },
   "source": [
    "# Precision/Recall Trade-off\n"
   ]
  },
  {
   "cell_type": "code",
   "execution_count": 34,
   "id": "df8f965d",
   "metadata": {
    "execution": {
     "iopub.execute_input": "2022-02-10T15:08:17.571279Z",
     "iopub.status.busy": "2022-02-10T15:08:17.570261Z",
     "iopub.status.idle": "2022-02-10T15:08:17.622380Z",
     "shell.execute_reply": "2022-02-10T15:08:17.622871Z",
     "shell.execute_reply.started": "2022-02-10T14:25:45.626003Z"
    },
    "papermill": {
     "duration": 0.109686,
     "end_time": "2022-02-10T15:08:17.623059",
     "exception": false,
     "start_time": "2022-02-10T15:08:17.513373",
     "status": "completed"
    },
    "tags": []
   },
   "outputs": [],
   "source": [
    "y_scores = cross_val_predict(svm_clf, X_train, y_train, cv=3,\n",
    "                             method=\"decision_function\")"
   ]
  },
  {
   "cell_type": "code",
   "execution_count": 35,
   "id": "174559ad",
   "metadata": {
    "execution": {
     "iopub.execute_input": "2022-02-10T15:08:17.737614Z",
     "iopub.status.busy": "2022-02-10T15:08:17.736666Z",
     "iopub.status.idle": "2022-02-10T15:08:17.739774Z",
     "shell.execute_reply": "2022-02-10T15:08:17.740242Z",
     "shell.execute_reply.started": "2022-02-10T14:25:47.060853Z"
    },
    "papermill": {
     "duration": 0.063097,
     "end_time": "2022-02-10T15:08:17.740422",
     "exception": false,
     "start_time": "2022-02-10T15:08:17.677325",
     "status": "completed"
    },
    "tags": []
   },
   "outputs": [],
   "source": [
    "from sklearn.metrics import precision_recall_curve\n",
    "\n",
    "precisions, recalls, thresholds = precision_recall_curve(y_train, y_scores)"
   ]
  },
  {
   "cell_type": "code",
   "execution_count": 36,
   "id": "0540c535",
   "metadata": {
    "execution": {
     "iopub.execute_input": "2022-02-10T15:08:17.854912Z",
     "iopub.status.busy": "2022-02-10T15:08:17.853882Z",
     "iopub.status.idle": "2022-02-10T15:08:18.058539Z",
     "shell.execute_reply": "2022-02-10T15:08:18.057975Z",
     "shell.execute_reply.started": "2022-02-10T14:25:49.020144Z"
    },
    "papermill": {
     "duration": 0.26397,
     "end_time": "2022-02-10T15:08:18.058747",
     "exception": false,
     "start_time": "2022-02-10T15:08:17.794777",
     "status": "completed"
    },
    "tags": []
   },
   "outputs": [
    {
     "data": {
      "image/png": "[encoded data removed]",
      "text/plain": [
       "<Figure size 432x288 with 1 Axes>"
      ]
     },
     "metadata": {
      "needs_background": "light"
     },
     "output_type": "display_data"
    },
    {
     "data": {
      "text/plain": [
       "<Figure size 576x288 with 0 Axes>"
      ]
     },
     "metadata": {},
     "output_type": "display_data"
    }
   ],
   "source": [
    "def plot_precision_recall_vs_threshold(precisions, recalls, thresholds):\n",
    "    plt.plot(thresholds, precisions[:-1], \"b--\", label=\"Precision\", linewidth=2)\n",
    "    plt.plot(thresholds, recalls[:-1], \"g-\", label=\"Recall\", linewidth=2)\n",
    "    plt.xlabel(\"Threshold\", fontsize=16)  \n",
    "    plt.legend(bbox_to_anchor=(1.05, 1), loc='upper left', borderaxespad=0.)\n",
    "    plt.grid(True)\n",
    "    plt.axis([0, 1, 0, 1])\n",
    "    plt.figure(figsize=(8, 4))                                                                \n",
    "plot_precision_recall_vs_threshold(precisions, recalls, thresholds)\n",
    "plt.show()"
   ]
  },
  {
   "cell_type": "markdown",
   "id": "6ac6a532",
   "metadata": {
    "papermill": {
     "duration": 0.055712,
     "end_time": "2022-02-10T15:08:18.170656",
     "exception": false,
     "start_time": "2022-02-10T15:08:18.114944",
     "status": "completed"
    },
    "tags": []
   },
   "source": [
    "# The ROC Curve\n"
   ]
  },
  {
   "cell_type": "code",
   "execution_count": 37,
   "id": "143799d5",
   "metadata": {
    "execution": {
     "iopub.execute_input": "2022-02-10T15:08:18.286067Z",
     "iopub.status.busy": "2022-02-10T15:08:18.285072Z",
     "iopub.status.idle": "2022-02-10T15:08:18.289941Z",
     "shell.execute_reply": "2022-02-10T15:08:18.290563Z",
     "shell.execute_reply.started": "2022-02-10T14:24:59.454500Z"
    },
    "papermill": {
     "duration": 0.064825,
     "end_time": "2022-02-10T15:08:18.290747",
     "exception": false,
     "start_time": "2022-02-10T15:08:18.225922",
     "status": "completed"
    },
    "tags": []
   },
   "outputs": [],
   "source": [
    "from sklearn.metrics import roc_curve\n",
    "\n",
    "fpr, tpr, thresholds = roc_curve(y_train, y_scores)"
   ]
  },
  {
   "cell_type": "code",
   "execution_count": 38,
   "id": "e3e213a9",
   "metadata": {
    "execution": {
     "iopub.execute_input": "2022-02-10T15:08:18.404969Z",
     "iopub.status.busy": "2022-02-10T15:08:18.403959Z",
     "iopub.status.idle": "2022-02-10T15:08:18.411715Z",
     "shell.execute_reply": "2022-02-10T15:08:18.412342Z",
     "shell.execute_reply.started": "2022-02-10T14:25:54.866131Z"
    },
    "papermill": {
     "duration": 0.066551,
     "end_time": "2022-02-10T15:08:18.412519",
     "exception": false,
     "start_time": "2022-02-10T15:08:18.345968",
     "status": "completed"
    },
    "tags": []
   },
   "outputs": [
    {
     "data": {
      "text/plain": [
       "0.8464592720416706"
      ]
     },
     "execution_count": 38,
     "metadata": {},
     "output_type": "execute_result"
    }
   ],
   "source": [
    "from sklearn.metrics import roc_auc_score\n",
    "\n",
    "roc_auc_score(y_train, y_scores)"
   ]
  },
  {
   "cell_type": "code",
   "execution_count": 39,
   "id": "f1c9b23c",
   "metadata": {
    "execution": {
     "iopub.execute_input": "2022-02-10T15:08:18.527736Z",
     "iopub.status.busy": "2022-02-10T15:08:18.526777Z",
     "iopub.status.idle": "2022-02-10T15:08:18.722754Z",
     "shell.execute_reply": "2022-02-10T15:08:18.723302Z",
     "shell.execute_reply.started": "2022-02-10T14:25:56.949425Z"
    },
    "papermill": {
     "duration": 0.255138,
     "end_time": "2022-02-10T15:08:18.723504",
     "exception": false,
     "start_time": "2022-02-10T15:08:18.468366",
     "status": "completed"
    },
    "tags": []
   },
   "outputs": [
    {
     "data": {
      "image/png": "[encoded data removed]",
      "text/plain": [
       "<Figure size 576x432 with 1 Axes>"
      ]
     },
     "metadata": {
      "needs_background": "light"
     },
     "output_type": "display_data"
    }
   ],
   "source": [
    "def plot_roc_curve(fpr, tpr, label=None):\n",
    "    plt.plot(fpr, tpr, linewidth=2, label=label)\n",
    "    plt.plot([0, 1], [0, 1], 'k--') # dashed diagonal\n",
    "    plt.axis([0, 1, 0, 1]) \n",
    "    plt.xlabel('False Positive Rate (Fall-Out)', fontsize=16) \n",
    "    plt.ylabel('True Positive Rate (Recall)', fontsize=16)    \n",
    "    plt.grid(True)                                            \n",
    "\n",
    "plt.figure(figsize=(8, 6)) \n",
    "plot_roc_curve(fpr, tpr)\n",
    "plt.show()"
   ]
  },
  {
   "cell_type": "markdown",
   "id": "5867e7cf",
   "metadata": {
    "papermill": {
     "duration": 0.056316,
     "end_time": "2022-02-10T15:08:18.838102",
     "exception": false,
     "start_time": "2022-02-10T15:08:18.781786",
     "status": "completed"
    },
    "tags": []
   },
   "source": [
    "# Fine-Tune Your Model\n",
    "\n",
    "# Grid Search\n"
   ]
  },
  {
   "cell_type": "code",
   "execution_count": 40,
   "id": "29e71d40",
   "metadata": {
    "execution": {
     "iopub.execute_input": "2022-02-10T15:08:18.957339Z",
     "iopub.status.busy": "2022-02-10T15:08:18.956062Z",
     "iopub.status.idle": "2022-02-10T15:08:24.034757Z",
     "shell.execute_reply": "2022-02-10T15:08:24.035476Z",
     "shell.execute_reply.started": "2022-02-10T14:47:19.348874Z"
    },
    "papermill": {
     "duration": 5.14064,
     "end_time": "2022-02-10T15:08:24.035670",
     "exception": false,
     "start_time": "2022-02-10T15:08:18.895030",
     "status": "completed"
    },
    "tags": []
   },
   "outputs": [
    {
     "name": "stdout",
     "output_type": "stream",
     "text": [
      "Fitting 5 folds for each of 25 candidates, totalling 125 fits\n",
      "[CV] C=0.1, gamma=1, kernel=rbf ......................................\n",
      "[CV] .......... C=0.1, gamma=1, kernel=rbf, score=0.687, total=   0.0s\n",
      "[CV] C=0.1, gamma=1, kernel=rbf ......................................\n",
      "[CV] .......... C=0.1, gamma=1, kernel=rbf, score=0.646, total=   0.0s\n",
      "[CV] C=0.1, gamma=1, kernel=rbf ......................................\n",
      "[CV] .......... C=0.1, gamma=1, kernel=rbf, score=0.640, total=   0.0s\n",
      "[CV] C=0.1, gamma=1, kernel=rbf ......................................\n",
      "[CV] .......... C=0.1, gamma=1, kernel=rbf, score=0.646, total=   0.0s\n",
      "[CV] C=0.1, gamma=1, kernel=rbf ......................................\n",
      "[CV] .......... C=0.1, gamma=1, kernel=rbf, score=0.629, total=   0.0s\n",
      "[CV] C=0.1, gamma=0.1, kernel=rbf ....................................\n",
      "[CV] ........ C=0.1, gamma=0.1, kernel=rbf, score=0.821, total=   0.0s\n",
      "[CV] C=0.1, gamma=0.1, kernel=rbf ....................................\n",
      "[CV] ........ C=0.1, gamma=0.1, kernel=rbf, score=0.809, total=   0.0s\n",
      "[CV] C=0.1, gamma=0.1, kernel=rbf ....................................\n"
     ]
    },
    {
     "name": "stderr",
     "output_type": "stream",
     "text": [
      "[Parallel(n_jobs=1)]: Using backend SequentialBackend with 1 concurrent workers.\n",
      "[Parallel(n_jobs=1)]: Done   1 out of   1 | elapsed:    0.0s remaining:    0.0s\n",
      "[Parallel(n_jobs=1)]: Done   2 out of   2 | elapsed:    0.1s remaining:    0.0s\n"
     ]
    },
    {
     "name": "stdout",
     "output_type": "stream",
     "text": [
      "[CV] ........ C=0.1, gamma=0.1, kernel=rbf, score=0.798, total=   0.0s\n",
      "[CV] C=0.1, gamma=0.1, kernel=rbf ....................................\n",
      "[CV] ........ C=0.1, gamma=0.1, kernel=rbf, score=0.798, total=   0.0s\n",
      "[CV] C=0.1, gamma=0.1, kernel=rbf ....................................\n",
      "[CV] ........ C=0.1, gamma=0.1, kernel=rbf, score=0.815, total=   0.0s\n",
      "[CV] C=0.1, gamma=0.01, kernel=rbf ...................................\n",
      "[CV] ....... C=0.1, gamma=0.01, kernel=rbf, score=0.626, total=   0.0s\n",
      "[CV] C=0.1, gamma=0.01, kernel=rbf ...................................\n",
      "[CV] ....... C=0.1, gamma=0.01, kernel=rbf, score=0.669, total=   0.0s\n",
      "[CV] C=0.1, gamma=0.01, kernel=rbf ...................................\n",
      "[CV] ....... C=0.1, gamma=0.01, kernel=rbf, score=0.635, total=   0.0s\n",
      "[CV] C=0.1, gamma=0.01, kernel=rbf ...................................\n",
      "[CV] ....... C=0.1, gamma=0.01, kernel=rbf, score=0.646, total=   0.0s\n",
      "[CV] C=0.1, gamma=0.01, kernel=rbf ...................................\n",
      "[CV] ....... C=0.1, gamma=0.01, kernel=rbf, score=0.640, total=   0.0s\n",
      "[CV] C=0.1, gamma=0.001, kernel=rbf ..................................\n",
      "[CV] ...... C=0.1, gamma=0.001, kernel=rbf, score=0.615, total=   0.0s\n",
      "[CV] C=0.1, gamma=0.001, kernel=rbf ..................................\n",
      "[CV] ...... C=0.1, gamma=0.001, kernel=rbf, score=0.618, total=   0.0s\n",
      "[CV] C=0.1, gamma=0.001, kernel=rbf ..................................\n",
      "[CV] ...... C=0.1, gamma=0.001, kernel=rbf, score=0.618, total=   0.0s\n",
      "[CV] C=0.1, gamma=0.001, kernel=rbf ..................................\n",
      "[CV] ...... C=0.1, gamma=0.001, kernel=rbf, score=0.618, total=   0.0s\n",
      "[CV] C=0.1, gamma=0.001, kernel=rbf ..................................\n",
      "[CV] ...... C=0.1, gamma=0.001, kernel=rbf, score=0.612, total=   0.0s\n",
      "[CV] C=0.1, gamma=0.0001, kernel=rbf .................................\n",
      "[CV] ..... C=0.1, gamma=0.0001, kernel=rbf, score=0.615, total=   0.0s\n",
      "[CV] C=0.1, gamma=0.0001, kernel=rbf .................................\n",
      "[CV] ..... C=0.1, gamma=0.0001, kernel=rbf, score=0.618, total=   0.0s\n",
      "[CV] C=0.1, gamma=0.0001, kernel=rbf .................................\n",
      "[CV] ..... C=0.1, gamma=0.0001, kernel=rbf, score=0.618, total=   0.0s\n",
      "[CV] C=0.1, gamma=0.0001, kernel=rbf .................................\n",
      "[CV] ..... C=0.1, gamma=0.0001, kernel=rbf, score=0.618, total=   0.0s\n",
      "[CV] C=0.1, gamma=0.0001, kernel=rbf .................................\n",
      "[CV] ..... C=0.1, gamma=0.0001, kernel=rbf, score=0.612, total=   0.0s\n",
      "[CV] C=1, gamma=1, kernel=rbf ........................................\n",
      "[CV] ............ C=1, gamma=1, kernel=rbf, score=0.765, total=   0.0s\n",
      "[CV] C=1, gamma=1, kernel=rbf ........................................\n",
      "[CV] ............ C=1, gamma=1, kernel=rbf, score=0.787, total=   0.0s\n",
      "[CV] C=1, gamma=1, kernel=rbf ........................................\n",
      "[CV] ............ C=1, gamma=1, kernel=rbf, score=0.798, total=   0.0s\n",
      "[CV] C=1, gamma=1, kernel=rbf ........................................\n",
      "[CV] ............ C=1, gamma=1, kernel=rbf, score=0.764, total=   0.0s\n",
      "[CV] C=1, gamma=1, kernel=rbf ........................................\n",
      "[CV] ............ C=1, gamma=1, kernel=rbf, score=0.848, total=   0.0s\n",
      "[CV] C=1, gamma=0.1, kernel=rbf ......................................\n",
      "[CV] .......... C=1, gamma=0.1, kernel=rbf, score=0.832, total=   0.0s\n",
      "[CV] C=1, gamma=0.1, kernel=rbf ......................................\n",
      "[CV] .......... C=1, gamma=0.1, kernel=rbf, score=0.820, total=   0.0s\n",
      "[CV] C=1, gamma=0.1, kernel=rbf ......................................\n",
      "[CV] .......... C=1, gamma=0.1, kernel=rbf, score=0.809, total=   0.0s\n",
      "[CV] C=1, gamma=0.1, kernel=rbf ......................................\n",
      "[CV] .......... C=1, gamma=0.1, kernel=rbf, score=0.809, total=   0.0s\n",
      "[CV] C=1, gamma=0.1, kernel=rbf ......................................\n",
      "[CV] .......... C=1, gamma=0.1, kernel=rbf, score=0.860, total=   0.0s\n",
      "[CV] C=1, gamma=0.01, kernel=rbf .....................................\n",
      "[CV] ......... C=1, gamma=0.01, kernel=rbf, score=0.804, total=   0.0s\n",
      "[CV] C=1, gamma=0.01, kernel=rbf .....................................\n",
      "[CV] ......... C=1, gamma=0.01, kernel=rbf, score=0.809, total=   0.0s\n",
      "[CV] C=1, gamma=0.01, kernel=rbf .....................................\n",
      "[CV] ......... C=1, gamma=0.01, kernel=rbf, score=0.787, total=   0.0s\n",
      "[CV] C=1, gamma=0.01, kernel=rbf .....................................\n",
      "[CV] ......... C=1, gamma=0.01, kernel=rbf, score=0.758, total=   0.0s\n",
      "[CV] C=1, gamma=0.01, kernel=rbf .....................................\n",
      "[CV] ......... C=1, gamma=0.01, kernel=rbf, score=0.803, total=   0.0s\n",
      "[CV] C=1, gamma=0.001, kernel=rbf ....................................\n",
      "[CV] ........ C=1, gamma=0.001, kernel=rbf, score=0.648, total=   0.0s\n",
      "[CV] C=1, gamma=0.001, kernel=rbf ....................................\n",
      "[CV] ........ C=1, gamma=0.001, kernel=rbf, score=0.719, total=   0.0s\n",
      "[CV] C=1, gamma=0.001, kernel=rbf ....................................\n",
      "[CV] ........ C=1, gamma=0.001, kernel=rbf, score=0.635, total=   0.0s\n",
      "[CV] C=1, gamma=0.001, kernel=rbf ....................................\n",
      "[CV] ........ C=1, gamma=0.001, kernel=rbf, score=0.680, total=   0.0s\n",
      "[CV] C=1, gamma=0.001, kernel=rbf ....................................\n",
      "[CV] ........ C=1, gamma=0.001, kernel=rbf, score=0.652, total=   0.0s\n",
      "[CV] C=1, gamma=0.0001, kernel=rbf ...................................\n",
      "[CV] ....... C=1, gamma=0.0001, kernel=rbf, score=0.615, total=   0.0s\n",
      "[CV] C=1, gamma=0.0001, kernel=rbf ...................................\n",
      "[CV] ....... C=1, gamma=0.0001, kernel=rbf, score=0.618, total=   0.0s\n",
      "[CV] C=1, gamma=0.0001, kernel=rbf ...................................\n",
      "[CV] ....... C=1, gamma=0.0001, kernel=rbf, score=0.618, total=   0.0s\n",
      "[CV] C=1, gamma=0.0001, kernel=rbf ...................................\n",
      "[CV] ....... C=1, gamma=0.0001, kernel=rbf, score=0.618, total=   0.0s\n",
      "[CV] C=1, gamma=0.0001, kernel=rbf ...................................\n",
      "[CV] ....... C=1, gamma=0.0001, kernel=rbf, score=0.612, total=   0.0s\n",
      "[CV] C=10, gamma=1, kernel=rbf .......................................\n",
      "[CV] ........... C=10, gamma=1, kernel=rbf, score=0.754, total=   0.0s\n",
      "[CV] C=10, gamma=1, kernel=rbf .......................................\n",
      "[CV] ........... C=10, gamma=1, kernel=rbf, score=0.747, total=   0.0s\n",
      "[CV] C=10, gamma=1, kernel=rbf .......................................\n",
      "[CV] ........... C=10, gamma=1, kernel=rbf, score=0.803, total=   0.0s\n",
      "[CV] C=10, gamma=1, kernel=rbf .......................................\n",
      "[CV] ........... C=10, gamma=1, kernel=rbf, score=0.753, total=   0.0s\n",
      "[CV] C=10, gamma=1, kernel=rbf .......................................\n",
      "[CV] ........... C=10, gamma=1, kernel=rbf, score=0.815, total=   0.0s\n",
      "[CV] C=10, gamma=0.1, kernel=rbf .....................................\n",
      "[CV] ......... C=10, gamma=0.1, kernel=rbf, score=0.816, total=   0.0s\n",
      "[CV] C=10, gamma=0.1, kernel=rbf .....................................\n",
      "[CV] ......... C=10, gamma=0.1, kernel=rbf, score=0.809, total=   0.0s\n",
      "[CV] C=10, gamma=0.1, kernel=rbf .....................................\n",
      "[CV] ......... C=10, gamma=0.1, kernel=rbf, score=0.826, total=   0.0s\n",
      "[CV] C=10, gamma=0.1, kernel=rbf .....................................\n",
      "[CV] ......... C=10, gamma=0.1, kernel=rbf, score=0.781, total=   0.0s\n",
      "[CV] C=10, gamma=0.1, kernel=rbf .....................................\n",
      "[CV] ......... C=10, gamma=0.1, kernel=rbf, score=0.854, total=   0.0s\n",
      "[CV] C=10, gamma=0.01, kernel=rbf ....................................\n",
      "[CV] ........ C=10, gamma=0.01, kernel=rbf, score=0.821, total=   0.0s\n",
      "[CV] C=10, gamma=0.01, kernel=rbf ....................................\n",
      "[CV] ........ C=10, gamma=0.01, kernel=rbf, score=0.820, total=   0.0s\n",
      "[CV] C=10, gamma=0.01, kernel=rbf ....................................\n",
      "[CV] ........ C=10, gamma=0.01, kernel=rbf, score=0.792, total=   0.0s\n",
      "[CV] C=10, gamma=0.01, kernel=rbf ....................................\n",
      "[CV] ........ C=10, gamma=0.01, kernel=rbf, score=0.787, total=   0.0s\n",
      "[CV] C=10, gamma=0.01, kernel=rbf ....................................\n",
      "[CV] ........ C=10, gamma=0.01, kernel=rbf, score=0.826, total=   0.0s\n",
      "[CV] C=10, gamma=0.001, kernel=rbf ...................................\n",
      "[CV] ....... C=10, gamma=0.001, kernel=rbf, score=0.799, total=   0.0s\n",
      "[CV] C=10, gamma=0.001, kernel=rbf ...................................\n",
      "[CV] ....... C=10, gamma=0.001, kernel=rbf, score=0.809, total=   0.0s\n",
      "[CV] C=10, gamma=0.001, kernel=rbf ...................................\n",
      "[CV] ....... C=10, gamma=0.001, kernel=rbf, score=0.787, total=   0.0s\n",
      "[CV] C=10, gamma=0.001, kernel=rbf ...................................\n",
      "[CV] ....... C=10, gamma=0.001, kernel=rbf, score=0.753, total=   0.0s\n",
      "[CV] C=10, gamma=0.001, kernel=rbf ...................................\n",
      "[CV] ....... C=10, gamma=0.001, kernel=rbf, score=0.787, total=   0.0s\n",
      "[CV] C=10, gamma=0.0001, kernel=rbf ..................................\n",
      "[CV] ...... C=10, gamma=0.0001, kernel=rbf, score=0.648, total=   0.0s\n",
      "[CV] C=10, gamma=0.0001, kernel=rbf ..................................\n",
      "[CV] ...... C=10, gamma=0.0001, kernel=rbf, score=0.719, total=   0.0s\n",
      "[CV] C=10, gamma=0.0001, kernel=rbf ..................................\n",
      "[CV] ...... C=10, gamma=0.0001, kernel=rbf, score=0.640, total=   0.0s\n",
      "[CV] C=10, gamma=0.0001, kernel=rbf ..................................\n",
      "[CV] ...... C=10, gamma=0.0001, kernel=rbf, score=0.674, total=   0.0s\n",
      "[CV] C=10, gamma=0.0001, kernel=rbf ..................................\n",
      "[CV] ...... C=10, gamma=0.0001, kernel=rbf, score=0.652, total=   0.0s\n",
      "[CV] C=100, gamma=1, kernel=rbf ......................................\n",
      "[CV] .......... C=100, gamma=1, kernel=rbf, score=0.704, total=   0.1s\n",
      "[CV] C=100, gamma=1, kernel=rbf ......................................\n",
      "[CV] .......... C=100, gamma=1, kernel=rbf, score=0.747, total=   0.1s\n",
      "[CV] C=100, gamma=1, kernel=rbf ......................................\n",
      "[CV] .......... C=100, gamma=1, kernel=rbf, score=0.787, total=   0.1s\n",
      "[CV] C=100, gamma=1, kernel=rbf ......................................\n",
      "[CV] .......... C=100, gamma=1, kernel=rbf, score=0.758, total=   0.0s\n",
      "[CV] C=100, gamma=1, kernel=rbf ......................................\n",
      "[CV] .......... C=100, gamma=1, kernel=rbf, score=0.815, total=   0.1s\n",
      "[CV] C=100, gamma=0.1, kernel=rbf ....................................\n",
      "[CV] ........ C=100, gamma=0.1, kernel=rbf, score=0.765, total=   0.0s\n",
      "[CV] C=100, gamma=0.1, kernel=rbf ....................................\n",
      "[CV] ........ C=100, gamma=0.1, kernel=rbf, score=0.775, total=   0.0s\n",
      "[CV] C=100, gamma=0.1, kernel=rbf ....................................\n",
      "[CV] ........ C=100, gamma=0.1, kernel=rbf, score=0.809, total=   0.0s\n",
      "[CV] C=100, gamma=0.1, kernel=rbf ....................................\n",
      "[CV] ........ C=100, gamma=0.1, kernel=rbf, score=0.775, total=   0.0s\n",
      "[CV] C=100, gamma=0.1, kernel=rbf ....................................\n",
      "[CV] ........ C=100, gamma=0.1, kernel=rbf, score=0.843, total=   0.0s\n",
      "[CV] C=100, gamma=0.01, kernel=rbf ...................................\n",
      "[CV] ....... C=100, gamma=0.01, kernel=rbf, score=0.816, total=   0.0s\n",
      "[CV] C=100, gamma=0.01, kernel=rbf ...................................\n",
      "[CV] ....... C=100, gamma=0.01, kernel=rbf, score=0.809, total=   0.0s\n",
      "[CV] C=100, gamma=0.01, kernel=rbf ...................................\n",
      "[CV] ....... C=100, gamma=0.01, kernel=rbf, score=0.820, total=   0.0s\n",
      "[CV] C=100, gamma=0.01, kernel=rbf ...................................\n",
      "[CV] ....... C=100, gamma=0.01, kernel=rbf, score=0.820, total=   0.0s\n",
      "[CV] C=100, gamma=0.01, kernel=rbf ...................................\n",
      "[CV] ....... C=100, gamma=0.01, kernel=rbf, score=0.871, total=   0.0s\n",
      "[CV] C=100, gamma=0.001, kernel=rbf ..................................\n",
      "[CV] ...... C=100, gamma=0.001, kernel=rbf, score=0.804, total=   0.0s\n",
      "[CV] C=100, gamma=0.001, kernel=rbf ..................................\n",
      "[CV] ...... C=100, gamma=0.001, kernel=rbf, score=0.809, total=   0.0s\n",
      "[CV] C=100, gamma=0.001, kernel=rbf ..................................\n",
      "[CV] ...... C=100, gamma=0.001, kernel=rbf, score=0.787, total=   0.0s\n",
      "[CV] C=100, gamma=0.001, kernel=rbf ..................................\n",
      "[CV] ...... C=100, gamma=0.001, kernel=rbf, score=0.753, total=   0.0s\n",
      "[CV] C=100, gamma=0.001, kernel=rbf ..................................\n",
      "[CV] ...... C=100, gamma=0.001, kernel=rbf, score=0.798, total=   0.0s\n",
      "[CV] C=100, gamma=0.0001, kernel=rbf .................................\n",
      "[CV] ..... C=100, gamma=0.0001, kernel=rbf, score=0.799, total=   0.0s\n",
      "[CV] C=100, gamma=0.0001, kernel=rbf .................................\n",
      "[CV] ..... C=100, gamma=0.0001, kernel=rbf, score=0.809, total=   0.0s\n",
      "[CV] C=100, gamma=0.0001, kernel=rbf .................................\n",
      "[CV] ..... C=100, gamma=0.0001, kernel=rbf, score=0.787, total=   0.0s\n",
      "[CV] C=100, gamma=0.0001, kernel=rbf .................................\n",
      "[CV] ..... C=100, gamma=0.0001, kernel=rbf, score=0.753, total=   0.0s\n",
      "[CV] C=100, gamma=0.0001, kernel=rbf .................................\n",
      "[CV] ..... C=100, gamma=0.0001, kernel=rbf, score=0.787, total=   0.0s\n",
      "[CV] C=1000, gamma=1, kernel=rbf .....................................\n",
      "[CV] ......... C=1000, gamma=1, kernel=rbf, score=0.715, total=   0.2s\n",
      "[CV] C=1000, gamma=1, kernel=rbf .....................................\n",
      "[CV] ......... C=1000, gamma=1, kernel=rbf, score=0.747, total=   0.3s\n",
      "[CV] C=1000, gamma=1, kernel=rbf .....................................\n",
      "[CV] ......... C=1000, gamma=1, kernel=rbf, score=0.798, total=   0.1s\n",
      "[CV] C=1000, gamma=1, kernel=rbf .....................................\n",
      "[CV] ......... C=1000, gamma=1, kernel=rbf, score=0.770, total=   0.1s\n",
      "[CV] C=1000, gamma=1, kernel=rbf .....................................\n",
      "[CV] ......... C=1000, gamma=1, kernel=rbf, score=0.803, total=   0.1s\n",
      "[CV] C=1000, gamma=0.1, kernel=rbf ...................................\n",
      "[CV] ....... C=1000, gamma=0.1, kernel=rbf, score=0.737, total=   0.1s\n",
      "[CV] C=1000, gamma=0.1, kernel=rbf ...................................\n",
      "[CV] ....... C=1000, gamma=0.1, kernel=rbf, score=0.770, total=   0.1s\n",
      "[CV] C=1000, gamma=0.1, kernel=rbf ...................................\n",
      "[CV] ....... C=1000, gamma=0.1, kernel=rbf, score=0.792, total=   0.2s\n",
      "[CV] C=1000, gamma=0.1, kernel=rbf ...................................\n",
      "[CV] ....... C=1000, gamma=0.1, kernel=rbf, score=0.770, total=   0.1s\n",
      "[CV] C=1000, gamma=0.1, kernel=rbf ...................................\n",
      "[CV] ....... C=1000, gamma=0.1, kernel=rbf, score=0.809, total=   0.1s\n",
      "[CV] C=1000, gamma=0.01, kernel=rbf ..................................\n",
      "[CV] ...... C=1000, gamma=0.01, kernel=rbf, score=0.816, total=   0.1s\n",
      "[CV] C=1000, gamma=0.01, kernel=rbf ..................................\n",
      "[CV] ...... C=1000, gamma=0.01, kernel=rbf, score=0.798, total=   0.1s\n",
      "[CV] C=1000, gamma=0.01, kernel=rbf ..................................\n",
      "[CV] ...... C=1000, gamma=0.01, kernel=rbf, score=0.831, total=   0.1s\n",
      "[CV] C=1000, gamma=0.01, kernel=rbf ..................................\n",
      "[CV] ...... C=1000, gamma=0.01, kernel=rbf, score=0.787, total=   0.1s\n",
      "[CV] C=1000, gamma=0.01, kernel=rbf ..................................\n",
      "[CV] ...... C=1000, gamma=0.01, kernel=rbf, score=0.871, total=   0.1s\n",
      "[CV] C=1000, gamma=0.001, kernel=rbf .................................\n",
      "[CV] ..... C=1000, gamma=0.001, kernel=rbf, score=0.799, total=   0.0s\n",
      "[CV] C=1000, gamma=0.001, kernel=rbf .................................\n",
      "[CV] ..... C=1000, gamma=0.001, kernel=rbf, score=0.815, total=   0.0s\n",
      "[CV] C=1000, gamma=0.001, kernel=rbf .................................\n",
      "[CV] ..... C=1000, gamma=0.001, kernel=rbf, score=0.792, total=   0.0s\n",
      "[CV] C=1000, gamma=0.001, kernel=rbf .................................\n",
      "[CV] ..... C=1000, gamma=0.001, kernel=rbf, score=0.787, total=   0.0s\n",
      "[CV] C=1000, gamma=0.001, kernel=rbf .................................\n",
      "[CV] ..... C=1000, gamma=0.001, kernel=rbf, score=0.831, total=   0.0s\n",
      "[CV] C=1000, gamma=0.0001, kernel=rbf ................................\n",
      "[CV] .... C=1000, gamma=0.0001, kernel=rbf, score=0.799, total=   0.0s\n",
      "[CV] C=1000, gamma=0.0001, kernel=rbf ................................\n",
      "[CV] .... C=1000, gamma=0.0001, kernel=rbf, score=0.809, total=   0.0s\n",
      "[CV] C=1000, gamma=0.0001, kernel=rbf ................................\n",
      "[CV] .... C=1000, gamma=0.0001, kernel=rbf, score=0.787, total=   0.0s\n",
      "[CV] C=1000, gamma=0.0001, kernel=rbf ................................\n",
      "[CV] .... C=1000, gamma=0.0001, kernel=rbf, score=0.753, total=   0.0s\n",
      "[CV] C=1000, gamma=0.0001, kernel=rbf ................................\n",
      "[CV] .... C=1000, gamma=0.0001, kernel=rbf, score=0.787, total=   0.0s\n"
     ]
    },
    {
     "name": "stderr",
     "output_type": "stream",
     "text": [
      "[Parallel(n_jobs=1)]: Done 125 out of 125 | elapsed:    5.0s finished\n"
     ]
    },
    {
     "data": {
      "text/plain": [
       "GridSearchCV(estimator=SVC(),\n",
       "             param_grid={'C': [0.1, 1, 10, 100, 1000],\n",
       "                         'gamma': [1, 0.1, 0.01, 0.001, 0.0001],\n",
       "                         'kernel': ['rbf']},\n",
       "             verbose=3)"
      ]
     },
     "execution_count": 40,
     "metadata": {},
     "output_type": "execute_result"
    }
   ],
   "source": [
    "from sklearn.model_selection import GridSearchCV\n",
    "\n",
    "# defining parameter range\n",
    "param_grid = {'C': [0.1, 1, 10, 100, 1000],\n",
    "              'gamma': [1, 0.1, 0.01, 0.001, 0.0001],\n",
    "              'kernel': ['rbf']}\n",
    " \n",
    "grid = GridSearchCV(SVC(), param_grid, refit = True, verbose = 3)\n",
    " \n",
    "# fitting the model for grid search\n",
    "grid.fit(X_train, y_train)\n",
    "\n"
   ]
  },
  {
   "cell_type": "code",
   "execution_count": 41,
   "id": "2ae18ec9",
   "metadata": {
    "execution": {
     "iopub.execute_input": "2022-02-10T15:08:24.175163Z",
     "iopub.status.busy": "2022-02-10T15:08:24.174342Z",
     "iopub.status.idle": "2022-02-10T15:08:24.178616Z",
     "shell.execute_reply": "2022-02-10T15:08:24.177948Z",
     "shell.execute_reply.started": "2022-02-10T14:47:44.955805Z"
    },
    "papermill": {
     "duration": 0.076598,
     "end_time": "2022-02-10T15:08:24.178770",
     "exception": false,
     "start_time": "2022-02-10T15:08:24.102172",
     "status": "completed"
    },
    "tags": []
   },
   "outputs": [
    {
     "name": "stdout",
     "output_type": "stream",
     "text": [
      "{'C': 100, 'gamma': 0.01, 'kernel': 'rbf'}\n",
      "SVC(C=100, gamma=0.01)\n"
     ]
    }
   ],
   "source": [
    "# print best parameter after tuning\n",
    "print(grid.best_params_)\n",
    " \n",
    "# print how our model looks after hyper-parameter tuning\n",
    "print(grid.best_estimator_)"
   ]
  },
  {
   "cell_type": "markdown",
   "id": "4bddfb95",
   "metadata": {
    "papermill": {
     "duration": 0.065549,
     "end_time": "2022-02-10T15:08:24.309882",
     "exception": false,
     "start_time": "2022-02-10T15:08:24.244333",
     "status": "completed"
    },
    "tags": []
   },
   "source": [
    "# Evaluate Your System on the Test Set\n"
   ]
  },
  {
   "cell_type": "code",
   "execution_count": 42,
   "id": "a1122c94",
   "metadata": {
    "execution": {
     "iopub.execute_input": "2022-02-10T15:08:24.459208Z",
     "iopub.status.busy": "2022-02-10T15:08:24.458488Z",
     "iopub.status.idle": "2022-02-10T15:08:24.816750Z",
     "shell.execute_reply": "2022-02-10T15:08:24.816132Z",
     "shell.execute_reply.started": "2022-02-10T15:01:36.780942Z"
    },
    "papermill": {
     "duration": 0.441626,
     "end_time": "2022-02-10T15:08:24.816926",
     "exception": false,
     "start_time": "2022-02-10T15:08:24.375300",
     "status": "completed"
    },
    "tags": []
   },
   "outputs": [
    {
     "data": {
      "text/plain": [
       "0.8283395755305868"
      ]
     },
     "execution_count": 42,
     "metadata": {},
     "output_type": "execute_result"
    }
   ],
   "source": [
    "final_model = grid.best_estimator_\n",
    "X_test = preprocess_pipeline.transform(test_data[num_attribs + cat_attribs])\n",
    "final_predictions = final_model.predict(X_test)\n",
    "\n",
    "fm_scores = cross_val_score(final_model, X_train, y_train, cv=10)\n",
    "fm_scores.mean()\n"
   ]
  }
 ],
 "metadata": {
  "kernelspec": {
   "display_name": "Python 3",
   "language": "python",
   "name": "python3"
  },
  "language_info": {
   "codemirror_mode": {
    "name": "ipython",
    "version": 3
   },
   "file_extension": ".py",
   "mimetype": "text/x-python",
   "name": "python",
   "nbconvert_exporter": "python",
   "pygments_lexer": "ipython3",
   "version": "3.7.12"
  },
  "papermill": {
   "default_parameters": {},
   "duration": 29.615681,
   "end_time": "2022-02-10T15:08:25.594302",
   "environment_variables": {},
   "exception": null,
   "input_path": "__notebook__.ipynb",
   "output_path": "__notebook__.ipynb",
   "parameters": {},
   "start_time": "2022-02-10T15:07:55.978621",
   "version": "2.3.3"
  }
 },
 "nbformat": 4,
 "nbformat_minor": 5
}
